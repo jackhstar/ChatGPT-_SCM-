{
  "nbformat": 4,
  "nbformat_minor": 0,
  "metadata": {
    "colab": {
      "provenance": []
    },
    "kernelspec": {
      "name": "python3",
      "display_name": "Python 3"
    },
    "language_info": {
      "name": "python"
    }
  },
  "cells": [
    {
      "cell_type": "markdown",
      "source": [
        "# **7장. 월말 편중과 실수요 기반 수요관리**"
      ],
      "metadata": {
        "id": "QcgOPmKXlp6V"
      }
    },
    {
      "cell_type": "markdown",
      "source": [
        "X 축은 주차 Y축은 주차별 출고량 합계로 막대그래프 그려줘\n",
        "4, 8, 13, 17주차는 주황색, 나머지 주차는 밝은 파란색, 윤곽선은 검은색  막대이다.\n",
        "1주차는 2011년 1월2일부터 1월8일이다. 즉, 한해의 첫 번쨰 목요일이 있는 주차부터 시작한다.\n",
        "주차는 01, 02, 03 처럼 문자형태로 표시하고 저장한다."
      ],
      "metadata": {
        "id": "ga66mvus9Uh2"
      }
    },
    {
      "cell_type": "markdown",
      "source": [
        "# 도표 7-7. 2011년 출고실적 업로드 파이썬 코드"
      ],
      "metadata": {
        "id": "Sp2AgcGL9rFW"
      }
    },
    {
      "cell_type": "code",
      "execution_count": null,
      "metadata": {
        "colab": {
          "base_uri": "https://localhost:8080/"
        },
        "id": "0G-kLNVy3QqE",
        "outputId": "3a63fdfe-1e5d-4f83-8138-8f9bb5a43e60"
      },
      "outputs": [
        {
          "output_type": "execute_result",
          "data": {
            "text/plain": [
              "(               출고번호    모델  출고량                출고시간\n",
              " 0  S201101050647001  모델01  357 2011-01-05 06:47:16\n",
              " 1  S201101030349001  모델01  206 2011-01-03 03:49:51\n",
              " 2  S201101042317001  모델01  206 2011-01-04 23:17:41\n",
              " 3  S201101072105001  모델01   75 2011-01-07 21:05:24\n",
              " 4  S201101070455001  모델01  150 2011-01-07 04:55:41,\n",
              " Index(['출고번호', '모델', '출고량', '출고시간'], dtype='object'))"
            ]
          },
          "metadata": {},
          "execution_count": 3
        }
      ],
      "source": [
        "import pandas as pd\n",
        "\n",
        "data_path = '/content/sample_data/출고2011.xlsx'\n",
        "data = pd.read_excel(data_path)\n",
        "\n",
        "data.head(), data.columns"
      ]
    },
    {
      "cell_type": "markdown",
      "source": [],
      "metadata": {
        "id": "PAd-e9nq8-j6"
      }
    },
    {
      "cell_type": "code",
      "source": [
        "# 한글 폰트 설치\n",
        "!sudo apt-get install -y fonts-nanum\n",
        "!sudo fc-cache -fv\n",
        "!rm ~/.cache/matplotlib -rf"
      ],
      "metadata": {
        "colab": {
          "base_uri": "https://localhost:8080/"
        },
        "id": "vYDblC8G3g6X",
        "outputId": "b67772ba-9144-449f-fdc8-c2c6ec2a1c3b"
      },
      "execution_count": null,
      "outputs": [
        {
          "output_type": "stream",
          "name": "stdout",
          "text": [
            "Reading package lists... Done\n",
            "Building dependency tree... Done\n",
            "Reading state information... Done\n",
            "fonts-nanum is already the newest version (20200506-1).\n",
            "0 upgraded, 0 newly installed, 0 to remove and 45 not upgraded.\n",
            "/usr/share/fonts: caching, new cache contents: 0 fonts, 1 dirs\n",
            "/usr/share/fonts/truetype: caching, new cache contents: 0 fonts, 3 dirs\n",
            "/usr/share/fonts/truetype/humor-sans: caching, new cache contents: 1 fonts, 0 dirs\n",
            "/usr/share/fonts/truetype/liberation: caching, new cache contents: 16 fonts, 0 dirs\n",
            "/usr/share/fonts/truetype/nanum: caching, new cache contents: 12 fonts, 0 dirs\n",
            "/usr/local/share/fonts: caching, new cache contents: 0 fonts, 0 dirs\n",
            "/root/.local/share/fonts: skipping, no such directory\n",
            "/root/.fonts: skipping, no such directory\n",
            "/usr/share/fonts/truetype: skipping, looped directory detected\n",
            "/usr/share/fonts/truetype/humor-sans: skipping, looped directory detected\n",
            "/usr/share/fonts/truetype/liberation: skipping, looped directory detected\n",
            "/usr/share/fonts/truetype/nanum: skipping, looped directory detected\n",
            "/var/cache/fontconfig: cleaning cache directory\n",
            "/root/.cache/fontconfig: not cleaning non-existent cache directory\n",
            "/root/.fontconfig: not cleaning non-existent cache directory\n",
            "fc-cache: succeeded\n"
          ]
        }
      ]
    },
    {
      "cell_type": "code",
      "source": [
        "import matplotlib.pyplot as plt\n",
        "import matplotlib.font_manager as fm\n",
        "\n",
        "# 폰트 경로 지정\n",
        "font_path = '/usr/share/fonts/truetype/nanum/NanumBarunGothic.ttf'  # 예시 경로\n",
        "\n",
        "# 폰트 이름 가져오기\n",
        "font_name = fm.FontProperties(fname=font_path, size=10).get_name()\n",
        "\n",
        "# Matplotlib의 rcParams에 폰트 지정\n",
        "plt.rcParams['font.family'] = font_name\n",
        "\n",
        "# 그래프 그리기 예시\n",
        "plt.figure()\n",
        "plt.plot([1, 2, 3], [1, 2, 3])\n",
        "plt.title('테스트')\n",
        "plt.show()\n"
      ],
      "metadata": {
        "colab": {
          "base_uri": "https://localhost:8080/",
          "height": 451
        },
        "id": "-Kp4P7Rcmz9a",
        "outputId": "28de09c2-b180-4acb-a38b-5ecf4c72636a"
      },
      "execution_count": null,
      "outputs": [
        {
          "output_type": "display_data",
          "data": {
            "text/plain": [
              "<Figure size 640x480 with 1 Axes>"
            ],
            "image/png": "[encoded data removed]"
          },
          "metadata": {}
        }
      ]
    },
    {
      "cell_type": "markdown",
      "source": [],
      "metadata": {
        "id": "DIO6Q61N-k1K"
      }
    },
    {
      "cell_type": "code",
      "source": [
        "# '출고시간' 열의 데이터를 datetime 타입으로 변환합니다.\n",
        "# 이는 날짜와 시간을 기반으로 한 다양한 시간 연산을 가능하게 합니다.\n",
        "data['출고시간'] = pd.to_datetime(data['출고시간'])\n",
        "\n",
        "# '출고시간'의 날짜 정보를 기준으로 각 날짜가 속한 ISO 주차를 추출합니다.\n",
        "# dt.isocalendar().week는 해당 날짜가 속한 주의 주차 번호를 반환합니다.\n",
        "data['주차'] = data['출고시간'].dt.isocalendar().week\n",
        "\n",
        "# 데이터를 '주차' 별로 그룹화하고, 각 그룹의 '출고량'을 합산하여 주차별 출고량 합계를 계산합니다.\n",
        "# groupby로 '주차'를 기준으로 그룹화하고, 출고량을 sum 함수로 합산한 결과를 새로운 DataFrame으로 반환합니다.\n",
        "weekly_sum = data.groupby('주차')['출고량'].sum().reset_index()\n",
        "\n",
        "# '주차'의 표시 형식을 2자리 숫자로 통일하기 위해 zfill(2)를 사용할 수도 있지만.\n",
        "# weekly_sum['주차'] = weekly_sum['주차'].astype(str).apply(lambda x: x.zfill(2))\n",
        "# 각 주차 번호를 문자열로 변환하면서, 한 자리 수의 경우 앞에 '0'을 추가하여 두 자리로 만듭니다.\n",
        "# f'{x:02d}'는 x를 최소 2자리의 정수(d)로 포맷팅하며, 필요한 경우 앞에 '0'을 추가합니다.\n",
        "weekly_sum['주차'] = weekly_sum['주차'].apply(lambda x: f'{x:02d}')\n",
        "weekly_sum.head()\n"
      ],
      "metadata": {
        "id": "PTJeSeHP3kkx",
        "colab": {
          "base_uri": "https://localhost:8080/",
          "height": 206
        },
        "outputId": "758c345f-9ea1-4136-b0b4-8a6692ec8a4c"
      },
      "execution_count": null,
      "outputs": [
        {
          "output_type": "execute_result",
          "data": {
            "text/plain": [
              "   주차    출고량\n",
              "0  01  53686\n",
              "1  02  54646\n",
              "2  03  63999\n",
              "3  04  75673\n",
              "4  05  59048"
            ],
            "text/html": [
              "\n",
              "  <div id=\"df-9af2ac35-db5d-4d3d-b0cb-0a383b117ee7\" class=\"colab-df-container\">\n",
              "    <div>\n",
              "<style scoped>\n",
              "    .dataframe tbody tr th:only-of-type {\n",
              "        vertical-align: middle;\n",
              "    }\n",
              "\n",
              "    .dataframe tbody tr th {\n",
              "        vertical-align: top;\n",
              "    }\n",
              "\n",
              "    .dataframe thead th {\n",
              "        text-align: right;\n",
              "    }\n",
              "</style>\n",
              "<table border=\"1\" class=\"dataframe\">\n",
              "  <thead>\n",
              "    <tr style=\"text-align: right;\">\n",
              "      <th></th>\n",
              "      <th>주차</th>\n",
              "      <th>출고량</th>\n",
              "    </tr>\n",
              "  </thead>\n",
              "  <tbody>\n",
              "    <tr>\n",
              "      <th>0</th>\n",
              "      <td>01</td>\n",
              "      <td>53686</td>\n",
              "    </tr>\n",
              "    <tr>\n",
              "      <th>1</th>\n",
              "      <td>02</td>\n",
              "      <td>54646</td>\n",
              "    </tr>\n",
              "    <tr>\n",
              "      <th>2</th>\n",
              "      <td>03</td>\n",
              "      <td>63999</td>\n",
              "    </tr>\n",
              "    <tr>\n",
              "      <th>3</th>\n",
              "      <td>04</td>\n",
              "      <td>75673</td>\n",
              "    </tr>\n",
              "    <tr>\n",
              "      <th>4</th>\n",
              "      <td>05</td>\n",
              "      <td>59048</td>\n",
              "    </tr>\n",
              "  </tbody>\n",
              "</table>\n",
              "</div>\n",
              "    <div class=\"colab-df-buttons\">\n",
              "\n",
              "  <div class=\"colab-df-container\">\n",
              "    <button class=\"colab-df-convert\" onclick=\"convertToInteractive('df-9af2ac35-db5d-4d3d-b0cb-0a383b117ee7')\"\n",
              "            title=\"Convert this dataframe to an interactive table.\"\n",
              "            style=\"display:none;\">\n",
              "\n",
              "  <svg xmlns=\"http://www.w3.org/2000/svg\" height=\"24px\" viewBox=\"0 -960 960 960\">\n",
              "    <path d=\"M120-120v-720h720v720H120Zm60-500h600v-160H180v160Zm220 220h160v-160H400v160Zm0 220h160v-160H400v160ZM180-400h160v-160H180v160Zm440 0h160v-160H620v160ZM180-180h160v-160H180v160Zm440 0h160v-160H620v160Z\"/>\n",
              "  </svg>\n",
              "    </button>\n",
              "\n",
              "  <style>\n",
              "    .colab-df-container {\n",
              "      display:flex;\n",
              "      gap: 12px;\n",
              "    }\n",
              "\n",
              "    .colab-df-convert {\n",
              "      background-color: #E8F0FE;\n",
              "      border: none;\n",
              "      border-radius: 50%;\n",
              "      cursor: pointer;\n",
              "      display: none;\n",
              "      fill: #1967D2;\n",
              "      height: 32px;\n",
              "      padding: 0 0 0 0;\n",
              "      width: 32px;\n",
              "    }\n",
              "\n",
              "    .colab-df-convert:hover {\n",
              "      background-color: #E2EBFA;\n",
              "      box-shadow: 0px 1px 2px rgba(60, 64, 67, 0.3), 0px 1px 3px 1px rgba(60, 64, 67, 0.15);\n",
              "      fill: #174EA6;\n",
              "    }\n",
              "\n",
              "    .colab-df-buttons div {\n",
              "      margin-bottom: 4px;\n",
              "    }\n",
              "\n",
              "    [theme=dark] .colab-df-convert {\n",
              "      background-color: #3B4455;\n",
              "      fill: #D2E3FC;\n",
              "    }\n",
              "\n",
              "    [theme=dark] .colab-df-convert:hover {\n",
              "      background-color: #434B5C;\n",
              "      box-shadow: 0px 1px 3px 1px rgba(0, 0, 0, 0.15);\n",
              "      filter: drop-shadow(0px 1px 2px rgba(0, 0, 0, 0.3));\n",
              "      fill: #FFFFFF;\n",
              "    }\n",
              "  </style>\n",
              "\n",
              "    <script>\n",
              "      const buttonEl =\n",
              "        document.querySelector('#df-9af2ac35-db5d-4d3d-b0cb-0a383b117ee7 button.colab-df-convert');\n",
              "      buttonEl.style.display =\n",
              "        google.colab.kernel.accessAllowed ? 'block' : 'none';\n",
              "\n",
              "      async function convertToInteractive(key) {\n",
              "        const element = document.querySelector('#df-9af2ac35-db5d-4d3d-b0cb-0a383b117ee7');\n",
              "        const dataTable =\n",
              "          await google.colab.kernel.invokeFunction('convertToInteractive',\n",
              "                                                    [key], {});\n",
              "        if (!dataTable) return;\n",
              "\n",
              "        const docLinkHtml = 'Like what you see? Visit the ' +\n",
              "          '<a target=\"_blank\" href=https://colab.research.google.com/notebooks/data_table.ipynb>data table notebook</a>'\n",
              "          + ' to learn more about interactive tables.';\n",
              "        element.innerHTML = '';\n",
              "        dataTable['output_type'] = 'display_data';\n",
              "        await google.colab.output.renderOutput(dataTable, element);\n",
              "        const docLink = document.createElement('div');\n",
              "        docLink.innerHTML = docLinkHtml;\n",
              "        element.appendChild(docLink);\n",
              "      }\n",
              "    </script>\n",
              "  </div>\n",
              "\n",
              "\n",
              "<div id=\"df-e9df5b22-5993-475f-93df-b6ba11aee041\">\n",
              "  <button class=\"colab-df-quickchart\" onclick=\"quickchart('df-e9df5b22-5993-475f-93df-b6ba11aee041')\"\n",
              "            title=\"Suggest charts\"\n",
              "            style=\"display:none;\">\n",
              "\n",
              "<svg xmlns=\"http://www.w3.org/2000/svg\" height=\"24px\"viewBox=\"0 0 24 24\"\n",
              "     width=\"24px\">\n",
              "    <g>\n",
              "        <path d=\"M19 3H5c-1.1 0-2 .9-2 2v14c0 1.1.9 2 2 2h14c1.1 0 2-.9 2-2V5c0-1.1-.9-2-2-2zM9 17H7v-7h2v7zm4 0h-2V7h2v10zm4 0h-2v-4h2v4z\"/>\n",
              "    </g>\n",
              "</svg>\n",
              "  </button>\n",
              "\n",
              "<style>\n",
              "  .colab-df-quickchart {\n",
              "      --bg-color: #E8F0FE;\n",
              "      --fill-color: #1967D2;\n",
              "      --hover-bg-color: #E2EBFA;\n",
              "      --hover-fill-color: #174EA6;\n",
              "      --disabled-fill-color: #AAA;\n",
              "      --disabled-bg-color: #DDD;\n",
              "  }\n",
              "\n",
              "  [theme=dark] .colab-df-quickchart {\n",
              "      --bg-color: #3B4455;\n",
              "      --fill-color: #D2E3FC;\n",
              "      --hover-bg-color: #434B5C;\n",
              "      --hover-fill-color: #FFFFFF;\n",
              "      --disabled-bg-color: #3B4455;\n",
              "      --disabled-fill-color: #666;\n",
              "  }\n",
              "\n",
              "  .colab-df-quickchart {\n",
              "    background-color: var(--bg-color);\n",
              "    border: none;\n",
              "    border-radius: 50%;\n",
              "    cursor: pointer;\n",
              "    display: none;\n",
              "    fill: var(--fill-color);\n",
              "    height: 32px;\n",
              "    padding: 0;\n",
              "    width: 32px;\n",
              "  }\n",
              "\n",
              "  .colab-df-quickchart:hover {\n",
              "    background-color: var(--hover-bg-color);\n",
              "    box-shadow: 0 1px 2px rgba(60, 64, 67, 0.3), 0 1px 3px 1px rgba(60, 64, 67, 0.15);\n",
              "    fill: var(--button-hover-fill-color);\n",
              "  }\n",
              "\n",
              "  .colab-df-quickchart-complete:disabled,\n",
              "  .colab-df-quickchart-complete:disabled:hover {\n",
              "    background-color: var(--disabled-bg-color);\n",
              "    fill: var(--disabled-fill-color);\n",
              "    box-shadow: none;\n",
              "  }\n",
              "\n",
              "  .colab-df-spinner {\n",
              "    border: 2px solid var(--fill-color);\n",
              "    border-color: transparent;\n",
              "    border-bottom-color: var(--fill-color);\n",
              "    animation:\n",
              "      spin 1s steps(1) infinite;\n",
              "  }\n",
              "\n",
              "  @keyframes spin {\n",
              "    0% {\n",
              "      border-color: transparent;\n",
              "      border-bottom-color: var(--fill-color);\n",
              "      border-left-color: var(--fill-color);\n",
              "    }\n",
              "    20% {\n",
              "      border-color: transparent;\n",
              "      border-left-color: var(--fill-color);\n",
              "      border-top-color: var(--fill-color);\n",
              "    }\n",
              "    30% {\n",
              "      border-color: transparent;\n",
              "      border-left-color: var(--fill-color);\n",
              "      border-top-color: var(--fill-color);\n",
              "      border-right-color: var(--fill-color);\n",
              "    }\n",
              "    40% {\n",
              "      border-color: transparent;\n",
              "      border-right-color: var(--fill-color);\n",
              "      border-top-color: var(--fill-color);\n",
              "    }\n",
              "    60% {\n",
              "      border-color: transparent;\n",
              "      border-right-color: var(--fill-color);\n",
              "    }\n",
              "    80% {\n",
              "      border-color: transparent;\n",
              "      border-right-color: var(--fill-color);\n",
              "      border-bottom-color: var(--fill-color);\n",
              "    }\n",
              "    90% {\n",
              "      border-color: transparent;\n",
              "      border-bottom-color: var(--fill-color);\n",
              "    }\n",
              "  }\n",
              "</style>\n",
              "\n",
              "  <script>\n",
              "    async function quickchart(key) {\n",
              "      const quickchartButtonEl =\n",
              "        document.querySelector('#' + key + ' button');\n",
              "      quickchartButtonEl.disabled = true;  // To prevent multiple clicks.\n",
              "      quickchartButtonEl.classList.add('colab-df-spinner');\n",
              "      try {\n",
              "        const charts = await google.colab.kernel.invokeFunction(\n",
              "            'suggestCharts', [key], {});\n",
              "      } catch (error) {\n",
              "        console.error('Error during call to suggestCharts:', error);\n",
              "      }\n",
              "      quickchartButtonEl.classList.remove('colab-df-spinner');\n",
              "      quickchartButtonEl.classList.add('colab-df-quickchart-complete');\n",
              "    }\n",
              "    (() => {\n",
              "      let quickchartButtonEl =\n",
              "        document.querySelector('#df-e9df5b22-5993-475f-93df-b6ba11aee041 button');\n",
              "      quickchartButtonEl.style.display =\n",
              "        google.colab.kernel.accessAllowed ? 'block' : 'none';\n",
              "    })();\n",
              "  </script>\n",
              "</div>\n",
              "\n",
              "    </div>\n",
              "  </div>\n"
            ],
            "application/vnd.google.colaboratory.intrinsic+json": {
              "type": "dataframe",
              "variable_name": "weekly_sum",
              "summary": "{\n  \"name\": \"weekly_sum\",\n  \"rows\": 17,\n  \"fields\": [\n    {\n      \"column\": \"\\uc8fc\\ucc28\",\n      \"properties\": {\n        \"dtype\": \"string\",\n        \"num_unique_values\": 17,\n        \"samples\": [\n          \"01\",\n          \"02\",\n          \"06\"\n        ],\n        \"semantic_type\": \"\",\n        \"description\": \"\"\n      }\n    },\n    {\n      \"column\": \"\\ucd9c\\uace0\\ub7c9\",\n      \"properties\": {\n        \"dtype\": \"number\",\n        \"std\": 10014,\n        \"min\": 53686,\n        \"max\": 81451,\n        \"num_unique_values\": 17,\n        \"samples\": [\n          53686,\n          54646,\n          55141\n        ],\n        \"semantic_type\": \"\",\n        \"description\": \"\"\n      }\n    }\n  ]\n}"
            }
          },
          "metadata": {},
          "execution_count": 8
        }
      ]
    },
    {
      "cell_type": "code",
      "source": [
        "import matplotlib.pyplot as plt\n",
        "\n",
        "# 강조할 주차를 리스트로 정의합니다.\n",
        "# 이 리스트에 포함된 주차는 막대 그래프에서 특정 색상으로 표시됩니다.\n",
        "highlight_weeks = ['04', '08', '13', '17']\n",
        "\n",
        "# 주차별로 색상을 설정합니다. highlight_weeks에 포함된 주차는 'orange'로, 그 외는 'lightblue'로 설정합니다.\n",
        "# 이를 위해 리스트 내포를 사용하여 weekly_sum['주차']의 각 요소에 대해 조건에 따라 색상을 지정합니다.\n",
        "colors = ['orange' if week in highlight_weeks else 'lightblue' for week in weekly_sum['주차']]\n",
        "\n",
        "# 막대 그래프의 크기를 설정합니다. 여기서는 가로 14인치, 세로 7인치로 설정하였습니다.\n",
        "plt.figure(figsize=(14, 7))\n",
        "\n",
        "# 막대 그래프를 생성합니다. '주차'는 x축, '출고량'은 y축으로 설정하며, 앞서 정의한 색상과 검은색 윤곽선을 사용합니다.\n",
        "bars = plt.bar(weekly_sum['주차'], weekly_sum['출고량'], color=colors, edgecolor='black')\n",
        "\n",
        "# x축 라벨을 '주차'로, y축 라벨을 '주차별 출고량 합계'로 설정합니다.\n",
        "plt.xlabel('주차')\n",
        "plt.ylabel('주차별 출고량 합계')\n",
        "\n",
        "# 그래프의 제목을 '2011년 주차별 출고량'으로 설정합니다.\n",
        "plt.title('2011년 주차별 출고량')\n",
        "\n",
        "# x축의 주차 라벨이 겹치지 않도록 45도로 회전시킵니다.\n",
        "plt.xticks(rotation=45)\n",
        "plt.show()\n"
      ],
      "metadata": {
        "colab": {
          "base_uri": "https://localhost:8080/",
          "height": 493
        },
        "id": "JbFmHzSc3sDO",
        "outputId": "14ce6036-53ed-46dd-d717-e5fe0ceca16d"
      },
      "execution_count": null,
      "outputs": [
        {
          "output_type": "display_data",
          "data": {
            "text/plain": [
              "<Figure size 1400x700 with 1 Axes>"
            ],
            "image/png": "[encoded data removed]"
          },
          "metadata": {}
        }
      ]
    },
    {
      "cell_type": "code",
      "source": [],
      "metadata": {
        "id": "KM1ydwrm48BF"
      },
      "execution_count": null,
      "outputs": []
    }
  ]
}
{
  "nbformat": 4,
  "nbformat_minor": 0,
  "metadata": {
    "colab": {
      "provenance": []
    },
    "kernelspec": {
      "name": "python3",
      "display_name": "Python 3"
    },
    "language_info": {
      "name": "python"
    }
  },
  "cells": [
    {
      "cell_type": "markdown",
      "source": [
        "# 표11-1. 수요는 변동하지만 공급 리드타임은 일정한 경우, ChatGPT 요청"
      ],
      "metadata": {
        "id": "2xKyfWDeGIFG"
      }
    },
    {
      "cell_type": "markdown",
      "source": [
        "물류센터의 최근 3개월간의 TV 출고정보는 GI.xlsx 저장되어 있다. 공장에서 물류센터로 리드타임은 4일로 일정하다. 서비스 수준이 99%(결품 허용확률 1%)일 때, 안전재고와 발주점은 얼마인가?"
      ],
      "metadata": {
        "id": "nKb1833s_yXt"
      }
    },
    {
      "cell_type": "markdown",
      "source": [
        "# 도표 11-5. 공급이 일정한 경우의 안전재고 계산 파이썬 코드\n",
        "-\t데이터 읽어 오기"
      ],
      "metadata": {
        "id": "ONjQu-Fo_dla"
      }
    },
    {
      "cell_type": "code",
      "source": [
        "# pandas 라이브러리를 임포트하여 데이터 조작 및 분석 기능을 사용할 수 있도록 함\n",
        "import pandas as pd\n",
        "\n",
        "# pd.read_excel 함수를 사용하여 지정된 경로의 Excel 파일을 로드\n",
        "# 'data'라는 변수에 로드된 데이터를 DataFrame 형태로 저장\n",
        "data = pd.read_excel(\"/content/sample_data/GI.xlsx\")\n",
        "\n",
        "# DataFrame의 head 메소드를 사용하여 로드된 데이터의 처음 5행을 출력\n",
        "# 이를 통해 데이터의 구조와 함께 주요 내용을 빠르게 확인할 수 있음\n",
        "data.head()"
      ],
      "metadata": {
        "colab": {
          "base_uri": "https://localhost:8080/",
          "height": 206
        },
        "id": "iQ39tNWWyln5",
        "outputId": "0b84ee72-24f5-4c16-8f88-09ea25479f66"
      },
      "execution_count": 3,
      "outputs": [
        {
          "output_type": "execute_result",
          "data": {
            "text/plain": [
              "          DAY     GI\n",
              "0  2023-07-01  58820\n",
              "1  2023-07-02  52000\n",
              "2  2023-07-03  54893\n",
              "3  2023-07-04  61204\n",
              "4  2023-07-05  59337"
            ],
            "text/html": [
              "\n",
              "  <div id=\"df-ef87d374-821f-4de5-8e5f-2e4fdb66b3af\" class=\"colab-df-container\">\n",
              "    <div>\n",
              "<style scoped>\n",
              "    .dataframe tbody tr th:only-of-type {\n",
              "        vertical-align: middle;\n",
              "    }\n",
              "\n",
              "    .dataframe tbody tr th {\n",
              "        vertical-align: top;\n",
              "    }\n",
              "\n",
              "    .dataframe thead th {\n",
              "        text-align: right;\n",
              "    }\n",
              "</style>\n",
              "<table border=\"1\" class=\"dataframe\">\n",
              "  <thead>\n",
              "    <tr style=\"text-align: right;\">\n",
              "      <th></th>\n",
              "      <th>DAY</th>\n",
              "      <th>GI</th>\n",
              "    </tr>\n",
              "  </thead>\n",
              "  <tbody>\n",
              "    <tr>\n",
              "      <th>0</th>\n",
              "      <td>2023-07-01</td>\n",
              "      <td>58820</td>\n",
              "    </tr>\n",
              "    <tr>\n",
              "      <th>1</th>\n",
              "      <td>2023-07-02</td>\n",
              "      <td>52000</td>\n",
              "    </tr>\n",
              "    <tr>\n",
              "      <th>2</th>\n",
              "      <td>2023-07-03</td>\n",
              "      <td>54893</td>\n",
              "    </tr>\n",
              "    <tr>\n",
              "      <th>3</th>\n",
              "      <td>2023-07-04</td>\n",
              "      <td>61204</td>\n",
              "    </tr>\n",
              "    <tr>\n",
              "      <th>4</th>\n",
              "      <td>2023-07-05</td>\n",
              "      <td>59337</td>\n",
              "    </tr>\n",
              "  </tbody>\n",
              "</table>\n",
              "</div>\n",
              "    <div class=\"colab-df-buttons\">\n",
              "\n",
              "  <div class=\"colab-df-container\">\n",
              "    <button class=\"colab-df-convert\" onclick=\"convertToInteractive('df-ef87d374-821f-4de5-8e5f-2e4fdb66b3af')\"\n",
              "            title=\"Convert this dataframe to an interactive table.\"\n",
              "            style=\"display:none;\">\n",
              "\n",
              "  <svg xmlns=\"http://www.w3.org/2000/svg\" height=\"24px\" viewBox=\"0 -960 960 960\">\n",
              "    <path d=\"M120-120v-720h720v720H120Zm60-500h600v-160H180v160Zm220 220h160v-160H400v160Zm0 220h160v-160H400v160ZM180-400h160v-160H180v160Zm440 0h160v-160H620v160ZM180-180h160v-160H180v160Zm440 0h160v-160H620v160Z\"/>\n",
              "  </svg>\n",
              "    </button>\n",
              "\n",
              "  <style>\n",
              "    .colab-df-container {\n",
              "      display:flex;\n",
              "      gap: 12px;\n",
              "    }\n",
              "\n",
              "    .colab-df-convert {\n",
              "      background-color: #E8F0FE;\n",
              "      border: none;\n",
              "      border-radius: 50%;\n",
              "      cursor: pointer;\n",
              "      display: none;\n",
              "      fill: #1967D2;\n",
              "      height: 32px;\n",
              "      padding: 0 0 0 0;\n",
              "      width: 32px;\n",
              "    }\n",
              "\n",
              "    .colab-df-convert:hover {\n",
              "      background-color: #E2EBFA;\n",
              "      box-shadow: 0px 1px 2px rgba(60, 64, 67, 0.3), 0px 1px 3px 1px rgba(60, 64, 67, 0.15);\n",
              "      fill: #174EA6;\n",
              "    }\n",
              "\n",
              "    .colab-df-buttons div {\n",
              "      margin-bottom: 4px;\n",
              "    }\n",
              "\n",
              "    [theme=dark] .colab-df-convert {\n",
              "      background-color: #3B4455;\n",
              "      fill: #D2E3FC;\n",
              "    }\n",
              "\n",
              "    [theme=dark] .colab-df-convert:hover {\n",
              "      background-color: #434B5C;\n",
              "      box-shadow: 0px 1px 3px 1px rgba(0, 0, 0, 0.15);\n",
              "      filter: drop-shadow(0px 1px 2px rgba(0, 0, 0, 0.3));\n",
              "      fill: #FFFFFF;\n",
              "    }\n",
              "  </style>\n",
              "\n",
              "    <script>\n",
              "      const buttonEl =\n",
              "        document.querySelector('#df-ef87d374-821f-4de5-8e5f-2e4fdb66b3af button.colab-df-convert');\n",
              "      buttonEl.style.display =\n",
              "        google.colab.kernel.accessAllowed ? 'block' : 'none';\n",
              "\n",
              "      async function convertToInteractive(key) {\n",
              "        const element = document.querySelector('#df-ef87d374-821f-4de5-8e5f-2e4fdb66b3af');\n",
              "        const dataTable =\n",
              "          await google.colab.kernel.invokeFunction('convertToInteractive',\n",
              "                                                    [key], {});\n",
              "        if (!dataTable) return;\n",
              "\n",
              "        const docLinkHtml = 'Like what you see? Visit the ' +\n",
              "          '<a target=\"_blank\" href=https://colab.research.google.com/notebooks/data_table.ipynb>data table notebook</a>'\n",
              "          + ' to learn more about interactive tables.';\n",
              "        element.innerHTML = '';\n",
              "        dataTable['output_type'] = 'display_data';\n",
              "        await google.colab.output.renderOutput(dataTable, element);\n",
              "        const docLink = document.createElement('div');\n",
              "        docLink.innerHTML = docLinkHtml;\n",
              "        element.appendChild(docLink);\n",
              "      }\n",
              "    </script>\n",
              "  </div>\n",
              "\n",
              "\n",
              "<div id=\"df-2fdbf434-81b1-48f0-9637-6327911b9c34\">\n",
              "  <button class=\"colab-df-quickchart\" onclick=\"quickchart('df-2fdbf434-81b1-48f0-9637-6327911b9c34')\"\n",
              "            title=\"Suggest charts\"\n",
              "            style=\"display:none;\">\n",
              "\n",
              "<svg xmlns=\"http://www.w3.org/2000/svg\" height=\"24px\"viewBox=\"0 0 24 24\"\n",
              "     width=\"24px\">\n",
              "    <g>\n",
              "        <path d=\"M19 3H5c-1.1 0-2 .9-2 2v14c0 1.1.9 2 2 2h14c1.1 0 2-.9 2-2V5c0-1.1-.9-2-2-2zM9 17H7v-7h2v7zm4 0h-2V7h2v10zm4 0h-2v-4h2v4z\"/>\n",
              "    </g>\n",
              "</svg>\n",
              "  </button>\n",
              "\n",
              "<style>\n",
              "  .colab-df-quickchart {\n",
              "      --bg-color: #E8F0FE;\n",
              "      --fill-color: #1967D2;\n",
              "      --hover-bg-color: #E2EBFA;\n",
              "      --hover-fill-color: #174EA6;\n",
              "      --disabled-fill-color: #AAA;\n",
              "      --disabled-bg-color: #DDD;\n",
              "  }\n",
              "\n",
              "  [theme=dark] .colab-df-quickchart {\n",
              "      --bg-color: #3B4455;\n",
              "      --fill-color: #D2E3FC;\n",
              "      --hover-bg-color: #434B5C;\n",
              "      --hover-fill-color: #FFFFFF;\n",
              "      --disabled-bg-color: #3B4455;\n",
              "      --disabled-fill-color: #666;\n",
              "  }\n",
              "\n",
              "  .colab-df-quickchart {\n",
              "    background-color: var(--bg-color);\n",
              "    border: none;\n",
              "    border-radius: 50%;\n",
              "    cursor: pointer;\n",
              "    display: none;\n",
              "    fill: var(--fill-color);\n",
              "    height: 32px;\n",
              "    padding: 0;\n",
              "    width: 32px;\n",
              "  }\n",
              "\n",
              "  .colab-df-quickchart:hover {\n",
              "    background-color: var(--hover-bg-color);\n",
              "    box-shadow: 0 1px 2px rgba(60, 64, 67, 0.3), 0 1px 3px 1px rgba(60, 64, 67, 0.15);\n",
              "    fill: var(--button-hover-fill-color);\n",
              "  }\n",
              "\n",
              "  .colab-df-quickchart-complete:disabled,\n",
              "  .colab-df-quickchart-complete:disabled:hover {\n",
              "    background-color: var(--disabled-bg-color);\n",
              "    fill: var(--disabled-fill-color);\n",
              "    box-shadow: none;\n",
              "  }\n",
              "\n",
              "  .colab-df-spinner {\n",
              "    border: 2px solid var(--fill-color);\n",
              "    border-color: transparent;\n",
              "    border-bottom-color: var(--fill-color);\n",
              "    animation:\n",
              "      spin 1s steps(1) infinite;\n",
              "  }\n",
              "\n",
              "  @keyframes spin {\n",
              "    0% {\n",
              "      border-color: transparent;\n",
              "      border-bottom-color: var(--fill-color);\n",
              "      border-left-color: var(--fill-color);\n",
              "    }\n",
              "    20% {\n",
              "      border-color: transparent;\n",
              "      border-left-color: var(--fill-color);\n",
              "      border-top-color: var(--fill-color);\n",
              "    }\n",
              "    30% {\n",
              "      border-color: transparent;\n",
              "      border-left-color: var(--fill-color);\n",
              "      border-top-color: var(--fill-color);\n",
              "      border-right-color: var(--fill-color);\n",
              "    }\n",
              "    40% {\n",
              "      border-color: transparent;\n",
              "      border-right-color: var(--fill-color);\n",
              "      border-top-color: var(--fill-color);\n",
              "    }\n",
              "    60% {\n",
              "      border-color: transparent;\n",
              "      border-right-color: var(--fill-color);\n",
              "    }\n",
              "    80% {\n",
              "      border-color: transparent;\n",
              "      border-right-color: var(--fill-color);\n",
              "      border-bottom-color: var(--fill-color);\n",
              "    }\n",
              "    90% {\n",
              "      border-color: transparent;\n",
              "      border-bottom-color: var(--fill-color);\n",
              "    }\n",
              "  }\n",
              "</style>\n",
              "\n",
              "  <script>\n",
              "    async function quickchart(key) {\n",
              "      const quickchartButtonEl =\n",
              "        document.querySelector('#' + key + ' button');\n",
              "      quickchartButtonEl.disabled = true;  // To prevent multiple clicks.\n",
              "      quickchartButtonEl.classList.add('colab-df-spinner');\n",
              "      try {\n",
              "        const charts = await google.colab.kernel.invokeFunction(\n",
              "            'suggestCharts', [key], {});\n",
              "      } catch (error) {\n",
              "        console.error('Error during call to suggestCharts:', error);\n",
              "      }\n",
              "      quickchartButtonEl.classList.remove('colab-df-spinner');\n",
              "      quickchartButtonEl.classList.add('colab-df-quickchart-complete');\n",
              "    }\n",
              "    (() => {\n",
              "      let quickchartButtonEl =\n",
              "        document.querySelector('#df-2fdbf434-81b1-48f0-9637-6327911b9c34 button');\n",
              "      quickchartButtonEl.style.display =\n",
              "        google.colab.kernel.accessAllowed ? 'block' : 'none';\n",
              "    })();\n",
              "  </script>\n",
              "</div>\n",
              "\n",
              "    </div>\n",
              "  </div>\n"
            ],
            "application/vnd.google.colaboratory.intrinsic+json": {
              "type": "dataframe",
              "variable_name": "data",
              "summary": "{\n  \"name\": \"data\",\n  \"rows\": 92,\n  \"fields\": [\n    {\n      \"column\": \"DAY\",\n      \"properties\": {\n        \"dtype\": \"object\",\n        \"num_unique_values\": 92,\n        \"samples\": [\n          \"2023-08-10\",\n          \"2023-07-23\",\n          \"2023-08-25\"\n        ],\n        \"semantic_type\": \"\",\n        \"description\": \"\"\n      }\n    },\n    {\n      \"column\": \"GI\",\n      \"properties\": {\n        \"dtype\": \"number\",\n        \"std\": 5160,\n        \"min\": 37235,\n        \"max\": 61348,\n        \"num_unique_values\": 92,\n        \"samples\": [\n          44757,\n          54322,\n          52141\n        ],\n        \"semantic_type\": \"\",\n        \"description\": \"\"\n      }\n    }\n  ]\n}"
            }
          },
          "metadata": {},
          "execution_count": 3
        }
      ]
    },
    {
      "cell_type": "markdown",
      "source": [
        "# 도표 11-5. 공급이 일정한 경우의 안전재고 계산 파이썬 코드\n",
        "\n",
        "-\t수요(출고량)의 평균과 표준편차 출력"
      ],
      "metadata": {
        "id": "MbfQauXkFe3P"
      }
    },
    {
      "cell_type": "code",
      "source": [
        "# pandas 라이브러리를 사용하여 'data'라는 DataFrame을 이용해 일일 출고량 데이터를 분석\n",
        "\n",
        "# 'GI' 열에서 일일 출고량의 평균을 계산하고 'mean_daily_gi'라는 변수에 저장\n",
        "mean_daily_gi = data['GI'].mean()\n",
        "\n",
        "# 'GI' 열에서 일일 출고량의 표준편차를 계산하고 'std_daily_gi'라는 변수에 저장\n",
        "std_daily_gi = data['GI'].std()\n",
        "\n",
        "# 계산된 평균과 표준편차를 출력\n",
        "mean_daily_gi, std_daily_gi\n"
      ],
      "metadata": {
        "id": "9UIUrnfDHuRm",
        "colab": {
          "base_uri": "https://localhost:8080/"
        },
        "outputId": "2a690d27-8ea1-4020-ae21-c38400f534a9"
      },
      "execution_count": 4,
      "outputs": [
        {
          "output_type": "execute_result",
          "data": {
            "text/plain": [
              "(50076.032608695656, 5160.248340243997)"
            ]
          },
          "metadata": {},
          "execution_count": 4
        }
      ]
    },
    {
      "cell_type": "code",
      "source": [
        "# scipy의 stats 모듈에서 norm을 임포트하여 정규 분포 관련 함수를 사용할 수 있게 함\n",
        "\n",
        "from scipy.stats import norm\n",
        "\n",
        "# norm.ppf 함수를 사용하여 서비스 수준 99%에 해당하는 Z 값을 계산\n",
        "# ppf는 percent point function (분위수 함수)로, 주어진 확률에 대한 분포의 값(Z 값)을 반환\n",
        "z_value = norm.ppf(0.99)\n",
        "\n",
        "# 안전재고를 계산\n",
        "# 안전재고는 예측 불가능한 수요 증가를 대비하여 보유해야 하는 추가 재고량\n",
        "# 이는 Z 값, 일일 출고량의 표준편차, 그리고 리드타임의 제곱근을 곱하여 계산\n",
        "safety_stock = z_value * std_daily_gi * (4**0.5)\n",
        "\n",
        "# 발주점을 계산\n",
        "# 발주점은 총 수요가 예상되는 지점에서 주문을 해야 하는 재고 수준\n",
        "# 일일 평균 수요에 리드타임을 곱한 값에 안전재고를 더해 계산\n",
        "reorder_point = mean_daily_gi * 4 + safety_stock\n",
        "\n",
        "# 계산된 Z 값, 안전재고, 발주점을 출력\n",
        "z_value, safety_stock, reorder_point"
      ],
      "metadata": {
        "colab": {
          "base_uri": "https://localhost:8080/"
        },
        "id": "Einatd7szcNH",
        "outputId": "b8e6b746-dce4-4a75-8839-29fa0bb1da24"
      },
      "execution_count": 5,
      "outputs": [
        {
          "output_type": "execute_result",
          "data": {
            "text/plain": [
              "(2.3263478740408408, 24009.0655116988, 224313.19594648143)"
            ]
          },
          "metadata": {},
          "execution_count": 5
        }
      ]
    },
    {
      "cell_type": "markdown",
      "source": [
        "# 표 11-6. 발주점이 주어진 상태에서 ChatGPT의 서비스수준 확인"
      ],
      "metadata": {
        "id": "VfCtdxuwGCO_"
      }
    },
    {
      "cell_type": "markdown",
      "source": [
        "물류센터의 최근 3개월간의 TV 출고정보는 GI.xlsx 저장되어 있다. 공장에서 물류센터로 리드타임은 4일로 일정하다. 발주점을 215,000으로 설정하였다면, 서비스 수준은 얼마인가?"
      ],
      "metadata": {
        "id": "vvcQBijE_auw"
      }
    },
    {
      "cell_type": "code",
      "source": [
        "# 데이터의 'GI' 열에 대한 기술적 통계를 계산합니다.\n",
        "summary_statistics = data['GI'].describe()\n",
        "# 데이터셋의 총 날짜 수를 계산합니다. 이는 유니크한 'DAY' 값의 개수입니다.\n",
        "total_days = data['DAY'].nunique()\n",
        "# 기술적 통계와 총 날짜 수를 출력합니다.\n",
        "summary_statistics, total_days"
      ],
      "metadata": {
        "colab": {
          "base_uri": "https://localhost:8080/"
        },
        "id": "NYXNoRm8QR8b",
        "outputId": "92d4444d-9fae-45c4-fc3a-b9a0849721e1"
      },
      "execution_count": 6,
      "outputs": [
        {
          "output_type": "execute_result",
          "data": {
            "text/plain": [
              "(count       92.000000\n",
              " mean     50076.032609\n",
              " std       5160.248340\n",
              " min      37235.000000\n",
              " 25%      46503.500000\n",
              " 50%      50243.500000\n",
              " 75%      53685.000000\n",
              " max      61348.000000\n",
              " Name: GI, dtype: float64,\n",
              " 92)"
            ]
          },
          "metadata": {},
          "execution_count": 6
        }
      ]
    },
    {
      "cell_type": "code",
      "source": [
        "# 평균 일일 출고량을 계산합니다. 이는 'GI' 열의 평균값을 사용합니다.\n",
        "average_daily_demand = summary_statistics['mean']\n",
        "\n",
        "# 리드타임을 일수로 설정합니다. 여기서는 4일입니다.\n",
        "lead_time_days = 4\n",
        "\n",
        "# 리드타임 동안의 총 예상 출고량을 계산합니다. 이는 평균 일일 출고량에 리드타임 일수를 곱한 값입니다.\n",
        "lead_time_demand = average_daily_demand * lead_time_days\n",
        "\n",
        "# 발주점에서 리드타임 동안의 총 출고량을 뺀 값으로 안전 재고를 계산합니다.\n",
        "safety_stock = 215000 - lead_time_demand\n",
        "\n",
        "# 정규분포를 사용하여 서비스 수준을 추정하기 위한 Z-점수를 계산합니다.\n",
        "from scipy.stats import norm\n",
        "\n",
        "# 일일 출고량의 표준편차를 사용합니다.\n",
        "std_dev = summary_statistics['std']\n",
        "\n",
        "# 안전 재고와 리드타임 동안의 표준편차를 사용하여 Z-점수를 계산합니다.\n",
        "z_score = safety_stock / (std_dev * (lead_time_days ** 0.5))\n",
        "\n",
        "# Z-점수에 해당하는 서비스 수준을 계산합니다. 이는 정규분포의 누적분포함수(CDF)를 사용하여 Z-점수 이하의 확률을 나타냅니다.\n",
        "service_level = norm.cdf(z_score)\n",
        "\n",
        "# 리드타임 동안의 예상 출고량, 안전 재고, Z-점수, 서비스 수준을 출력합니다.\n",
        "lead_time_demand, safety_stock, z_score, service_level"
      ],
      "metadata": {
        "colab": {
          "base_uri": "https://localhost:8080/"
        },
        "id": "GdVSnK_xDGa5",
        "outputId": "2c1bb17c-7e58-47a6-f96f-e35023647f02"
      },
      "execution_count": 7,
      "outputs": [
        {
          "output_type": "execute_result",
          "data": {
            "text/plain": [
              "(200304.13043478262,\n",
              " 14695.869565217377,\n",
              " 1.4239498369299897,\n",
              " 0.9227695031779872)"
            ]
          },
          "metadata": {},
          "execution_count": 7
        }
      ]
    },
    {
      "cell_type": "markdown",
      "source": [
        "# 도표 11-10. 수요는 일정, 리드타임이 변동하는 경우의 ChatGPT 안전재고 계산"
      ],
      "metadata": {
        "id": "K42YVJtWrBc_"
      }
    },
    {
      "cell_type": "markdown",
      "source": [
        "TV를 보관하는 물류센터에서 하루 평균 20개의 TV를 출하하고 있다. 공장에서 물류센터로 공급 리드타임의 과거 3개월간 실적 정보는 SupplyLT.xlsx에 저장되어 있다. 허용 품절율이 3%일 때, 안전재고와 발주점은 얼마인가?"
      ],
      "metadata": {
        "id": "tAgm_ixfq799"
      }
    },
    {
      "cell_type": "markdown",
      "source": [
        "# 도표 11-10. 수요는 일정, 리드타임이 변동하는 경우의 ChatGPT 안전재고 계산"
      ],
      "metadata": {
        "id": "oRpPyNlvV7Ku"
      }
    },
    {
      "cell_type": "code",
      "source": [
        "import pandas as pd\n",
        "\n",
        "# 데이터 파일 로드\n",
        "data = pd.read_excel('/content/sample_data/SupplyLT.xlsx')\n",
        "\n",
        "# 데이터 통계 확인\n",
        "data.describe()"
      ],
      "metadata": {
        "colab": {
          "base_uri": "https://localhost:8080/",
          "height": 300
        },
        "id": "LQEUo6QSV7k0",
        "outputId": "08a7e282-84bd-4c7c-edfc-55bf0ace6f17"
      },
      "execution_count": 8,
      "outputs": [
        {
          "output_type": "execute_result",
          "data": {
            "text/plain": [
              "              LT\n",
              "count  92.000000\n",
              "mean    6.054348\n",
              "std     2.066819\n",
              "min     1.000000\n",
              "25%     5.000000\n",
              "50%     6.000000\n",
              "75%     7.250000\n",
              "max    11.000000"
            ],
            "text/html": [
              "\n",
              "  <div id=\"df-a5e66343-f0ba-4001-87bc-ee23210c520f\" class=\"colab-df-container\">\n",
              "    <div>\n",
              "<style scoped>\n",
              "    .dataframe tbody tr th:only-of-type {\n",
              "        vertical-align: middle;\n",
              "    }\n",
              "\n",
              "    .dataframe tbody tr th {\n",
              "        vertical-align: top;\n",
              "    }\n",
              "\n",
              "    .dataframe thead th {\n",
              "        text-align: right;\n",
              "    }\n",
              "</style>\n",
              "<table border=\"1\" class=\"dataframe\">\n",
              "  <thead>\n",
              "    <tr style=\"text-align: right;\">\n",
              "      <th></th>\n",
              "      <th>LT</th>\n",
              "    </tr>\n",
              "  </thead>\n",
              "  <tbody>\n",
              "    <tr>\n",
              "      <th>count</th>\n",
              "      <td>92.000000</td>\n",
              "    </tr>\n",
              "    <tr>\n",
              "      <th>mean</th>\n",
              "      <td>6.054348</td>\n",
              "    </tr>\n",
              "    <tr>\n",
              "      <th>std</th>\n",
              "      <td>2.066819</td>\n",
              "    </tr>\n",
              "    <tr>\n",
              "      <th>min</th>\n",
              "      <td>1.000000</td>\n",
              "    </tr>\n",
              "    <tr>\n",
              "      <th>25%</th>\n",
              "      <td>5.000000</td>\n",
              "    </tr>\n",
              "    <tr>\n",
              "      <th>50%</th>\n",
              "      <td>6.000000</td>\n",
              "    </tr>\n",
              "    <tr>\n",
              "      <th>75%</th>\n",
              "      <td>7.250000</td>\n",
              "    </tr>\n",
              "    <tr>\n",
              "      <th>max</th>\n",
              "      <td>11.000000</td>\n",
              "    </tr>\n",
              "  </tbody>\n",
              "</table>\n",
              "</div>\n",
              "    <div class=\"colab-df-buttons\">\n",
              "\n",
              "  <div class=\"colab-df-container\">\n",
              "    <button class=\"colab-df-convert\" onclick=\"convertToInteractive('df-a5e66343-f0ba-4001-87bc-ee23210c520f')\"\n",
              "            title=\"Convert this dataframe to an interactive table.\"\n",
              "            style=\"display:none;\">\n",
              "\n",
              "  <svg xmlns=\"http://www.w3.org/2000/svg\" height=\"24px\" viewBox=\"0 -960 960 960\">\n",
              "    <path d=\"M120-120v-720h720v720H120Zm60-500h600v-160H180v160Zm220 220h160v-160H400v160Zm0 220h160v-160H400v160ZM180-400h160v-160H180v160Zm440 0h160v-160H620v160ZM180-180h160v-160H180v160Zm440 0h160v-160H620v160Z\"/>\n",
              "  </svg>\n",
              "    </button>\n",
              "\n",
              "  <style>\n",
              "    .colab-df-container {\n",
              "      display:flex;\n",
              "      gap: 12px;\n",
              "    }\n",
              "\n",
              "    .colab-df-convert {\n",
              "      background-color: #E8F0FE;\n",
              "      border: none;\n",
              "      border-radius: 50%;\n",
              "      cursor: pointer;\n",
              "      display: none;\n",
              "      fill: #1967D2;\n",
              "      height: 32px;\n",
              "      padding: 0 0 0 0;\n",
              "      width: 32px;\n",
              "    }\n",
              "\n",
              "    .colab-df-convert:hover {\n",
              "      background-color: #E2EBFA;\n",
              "      box-shadow: 0px 1px 2px rgba(60, 64, 67, 0.3), 0px 1px 3px 1px rgba(60, 64, 67, 0.15);\n",
              "      fill: #174EA6;\n",
              "    }\n",
              "\n",
              "    .colab-df-buttons div {\n",
              "      margin-bottom: 4px;\n",
              "    }\n",
              "\n",
              "    [theme=dark] .colab-df-convert {\n",
              "      background-color: #3B4455;\n",
              "      fill: #D2E3FC;\n",
              "    }\n",
              "\n",
              "    [theme=dark] .colab-df-convert:hover {\n",
              "      background-color: #434B5C;\n",
              "      box-shadow: 0px 1px 3px 1px rgba(0, 0, 0, 0.15);\n",
              "      filter: drop-shadow(0px 1px 2px rgba(0, 0, 0, 0.3));\n",
              "      fill: #FFFFFF;\n",
              "    }\n",
              "  </style>\n",
              "\n",
              "    <script>\n",
              "      const buttonEl =\n",
              "        document.querySelector('#df-a5e66343-f0ba-4001-87bc-ee23210c520f button.colab-df-convert');\n",
              "      buttonEl.style.display =\n",
              "        google.colab.kernel.accessAllowed ? 'block' : 'none';\n",
              "\n",
              "      async function convertToInteractive(key) {\n",
              "        const element = document.querySelector('#df-a5e66343-f0ba-4001-87bc-ee23210c520f');\n",
              "        const dataTable =\n",
              "          await google.colab.kernel.invokeFunction('convertToInteractive',\n",
              "                                                    [key], {});\n",
              "        if (!dataTable) return;\n",
              "\n",
              "        const docLinkHtml = 'Like what you see? Visit the ' +\n",
              "          '<a target=\"_blank\" href=https://colab.research.google.com/notebooks/data_table.ipynb>data table notebook</a>'\n",
              "          + ' to learn more about interactive tables.';\n",
              "        element.innerHTML = '';\n",
              "        dataTable['output_type'] = 'display_data';\n",
              "        await google.colab.output.renderOutput(dataTable, element);\n",
              "        const docLink = document.createElement('div');\n",
              "        docLink.innerHTML = docLinkHtml;\n",
              "        element.appendChild(docLink);\n",
              "      }\n",
              "    </script>\n",
              "  </div>\n",
              "\n",
              "\n",
              "<div id=\"df-79061741-d367-488e-bd9f-dc3aa00f9fc6\">\n",
              "  <button class=\"colab-df-quickchart\" onclick=\"quickchart('df-79061741-d367-488e-bd9f-dc3aa00f9fc6')\"\n",
              "            title=\"Suggest charts\"\n",
              "            style=\"display:none;\">\n",
              "\n",
              "<svg xmlns=\"http://www.w3.org/2000/svg\" height=\"24px\"viewBox=\"0 0 24 24\"\n",
              "     width=\"24px\">\n",
              "    <g>\n",
              "        <path d=\"M19 3H5c-1.1 0-2 .9-2 2v14c0 1.1.9 2 2 2h14c1.1 0 2-.9 2-2V5c0-1.1-.9-2-2-2zM9 17H7v-7h2v7zm4 0h-2V7h2v10zm4 0h-2v-4h2v4z\"/>\n",
              "    </g>\n",
              "</svg>\n",
              "  </button>\n",
              "\n",
              "<style>\n",
              "  .colab-df-quickchart {\n",
              "      --bg-color: #E8F0FE;\n",
              "      --fill-color: #1967D2;\n",
              "      --hover-bg-color: #E2EBFA;\n",
              "      --hover-fill-color: #174EA6;\n",
              "      --disabled-fill-color: #AAA;\n",
              "      --disabled-bg-color: #DDD;\n",
              "  }\n",
              "\n",
              "  [theme=dark] .colab-df-quickchart {\n",
              "      --bg-color: #3B4455;\n",
              "      --fill-color: #D2E3FC;\n",
              "      --hover-bg-color: #434B5C;\n",
              "      --hover-fill-color: #FFFFFF;\n",
              "      --disabled-bg-color: #3B4455;\n",
              "      --disabled-fill-color: #666;\n",
              "  }\n",
              "\n",
              "  .colab-df-quickchart {\n",
              "    background-color: var(--bg-color);\n",
              "    border: none;\n",
              "    border-radius: 50%;\n",
              "    cursor: pointer;\n",
              "    display: none;\n",
              "    fill: var(--fill-color);\n",
              "    height: 32px;\n",
              "    padding: 0;\n",
              "    width: 32px;\n",
              "  }\n",
              "\n",
              "  .colab-df-quickchart:hover {\n",
              "    background-color: var(--hover-bg-color);\n",
              "    box-shadow: 0 1px 2px rgba(60, 64, 67, 0.3), 0 1px 3px 1px rgba(60, 64, 67, 0.15);\n",
              "    fill: var(--button-hover-fill-color);\n",
              "  }\n",
              "\n",
              "  .colab-df-quickchart-complete:disabled,\n",
              "  .colab-df-quickchart-complete:disabled:hover {\n",
              "    background-color: var(--disabled-bg-color);\n",
              "    fill: var(--disabled-fill-color);\n",
              "    box-shadow: none;\n",
              "  }\n",
              "\n",
              "  .colab-df-spinner {\n",
              "    border: 2px solid var(--fill-color);\n",
              "    border-color: transparent;\n",
              "    border-bottom-color: var(--fill-color);\n",
              "    animation:\n",
              "      spin 1s steps(1) infinite;\n",
              "  }\n",
              "\n",
              "  @keyframes spin {\n",
              "    0% {\n",
              "      border-color: transparent;\n",
              "      border-bottom-color: var(--fill-color);\n",
              "      border-left-color: var(--fill-color);\n",
              "    }\n",
              "    20% {\n",
              "      border-color: transparent;\n",
              "      border-left-color: var(--fill-color);\n",
              "      border-top-color: var(--fill-color);\n",
              "    }\n",
              "    30% {\n",
              "      border-color: transparent;\n",
              "      border-left-color: var(--fill-color);\n",
              "      border-top-color: var(--fill-color);\n",
              "      border-right-color: var(--fill-color);\n",
              "    }\n",
              "    40% {\n",
              "      border-color: transparent;\n",
              "      border-right-color: var(--fill-color);\n",
              "      border-top-color: var(--fill-color);\n",
              "    }\n",
              "    60% {\n",
              "      border-color: transparent;\n",
              "      border-right-color: var(--fill-color);\n",
              "    }\n",
              "    80% {\n",
              "      border-color: transparent;\n",
              "      border-right-color: var(--fill-color);\n",
              "      border-bottom-color: var(--fill-color);\n",
              "    }\n",
              "    90% {\n",
              "      border-color: transparent;\n",
              "      border-bottom-color: var(--fill-color);\n",
              "    }\n",
              "  }\n",
              "</style>\n",
              "\n",
              "  <script>\n",
              "    async function quickchart(key) {\n",
              "      const quickchartButtonEl =\n",
              "        document.querySelector('#' + key + ' button');\n",
              "      quickchartButtonEl.disabled = true;  // To prevent multiple clicks.\n",
              "      quickchartButtonEl.classList.add('colab-df-spinner');\n",
              "      try {\n",
              "        const charts = await google.colab.kernel.invokeFunction(\n",
              "            'suggestCharts', [key], {});\n",
              "      } catch (error) {\n",
              "        console.error('Error during call to suggestCharts:', error);\n",
              "      }\n",
              "      quickchartButtonEl.classList.remove('colab-df-spinner');\n",
              "      quickchartButtonEl.classList.add('colab-df-quickchart-complete');\n",
              "    }\n",
              "    (() => {\n",
              "      let quickchartButtonEl =\n",
              "        document.querySelector('#df-79061741-d367-488e-bd9f-dc3aa00f9fc6 button');\n",
              "      quickchartButtonEl.style.display =\n",
              "        google.colab.kernel.accessAllowed ? 'block' : 'none';\n",
              "    })();\n",
              "  </script>\n",
              "</div>\n",
              "\n",
              "    </div>\n",
              "  </div>\n"
            ],
            "application/vnd.google.colaboratory.intrinsic+json": {
              "type": "dataframe",
              "summary": "{\n  \"name\": \"data\",\n  \"rows\": 8,\n  \"fields\": [\n    {\n      \"column\": \"LT\",\n      \"properties\": {\n        \"dtype\": \"number\",\n        \"std\": 30.742964903202843,\n        \"min\": 1.0,\n        \"max\": 92.0,\n        \"num_unique_values\": 8,\n        \"samples\": [\n          6.054347826086956,\n          6.0,\n          92.0\n        ],\n        \"semantic_type\": \"\",\n        \"description\": \"\"\n      }\n    }\n  ]\n}"
            }
          },
          "metadata": {},
          "execution_count": 8
        }
      ]
    },
    {
      "cell_type": "code",
      "source": [
        "from scipy.stats import norm\n",
        "\n",
        "# 서비스 수준에 따른 z 값 계산\n",
        "z_value = norm.ppf(0.97)\n",
        "\n",
        "# 안전재고 계산\n",
        "mu_L = 6.05\n",
        "sigma_D = 0  # 일정한 수요로 인해 표준편차는 0\n",
        "mu_D = 20\n",
        "sigma_L = 2.07\n",
        "\n",
        "safety_stock = z_value * ((mu_L * sigma_D**2) + (mu_D**2 * sigma_L**2))**0.5\n",
        "\n",
        "# 발주점(Reorder Point) 계산\n",
        "reorder_point = mu_L * mu_D + safety_stock\n",
        "\n",
        "safety_stock, reorder_point\n"
      ],
      "metadata": {
        "colab": {
          "base_uri": "https://localhost:8080/"
        },
        "id": "UxqCplQ4WiPY",
        "outputId": "eb4c26eb-94b8-4714-a7fd-0cbfa7832ec6"
      },
      "execution_count": 9,
      "outputs": [
        {
          "output_type": "execute_result",
          "data": {
            "text/plain": [
              "(77.86485537746178, 198.86485537746177)"
            ]
          },
          "metadata": {},
          "execution_count": 9
        }
      ]
    },
    {
      "cell_type": "markdown",
      "source": [
        "# 도표 10-11. 안전재고 계산 공식을 지정한 경우의 요청과 답변"
      ],
      "metadata": {
        "id": "mg7ybF-nsVYK"
      }
    },
    {
      "cell_type": "markdown",
      "source": [
        "TV를 보관하는 물류센터에서 과거 3개월의 TV 출하실적정보는 GI.xlsx 저장되어 있다. 공장에서 물류센터로 리드타임의 과거 3개월 실적 정보는 SupplyLT.xlsx에 저장되어 있다. 서비스 수준을 90%로 유지하고자 할 때, 안전재고와 발주점은 얼마인가?\n",
        "- 안전 재고는 (일일 수요의 표준편차의 제곱 × 리드타임의 평균)과 (일일 수요 평균의 제곱 × 리드타임의 표준편차의 제곱)을 더한 후 제곱근을 하고, 안전계수와 곱해서 계산한다"
      ],
      "metadata": {
        "id": "wH7IPOJJrYdU"
      }
    },
    {
      "cell_type": "code",
      "source": [
        "# Load the new data from the updated Excel files\n",
        "gi_df_new = pd.read_excel('/content/sample_data/GI.xlsx')\n",
        "supplylt_df_new = pd.read_excel('/content/sample_data/SupplyLT.xlsx')\n",
        "\n",
        "# Calculate the mean and standard deviation for daily shipments (demand)\n",
        "daily_demand_mean_new = gi_df_new['GI'].mean()\n",
        "daily_demand_std_new = gi_df_new['GI'].std()\n",
        "\n",
        "# Calculate the mean and standard deviation for lead time\n",
        "lead_time_mean_new = supplylt_df_new['LT'].mean()\n",
        "lead_time_std_new = supplylt_df_new['LT'].std()\n",
        "\n",
        "daily_demand_mean_new, daily_demand_std_new, lead_time_mean_new, lead_time_std_new\n"
      ],
      "metadata": {
        "id": "W48uoHUwW-U8",
        "colab": {
          "base_uri": "https://localhost:8080/"
        },
        "outputId": "c832cbc0-2eb3-4b9c-b4ce-119951807820"
      },
      "execution_count": 15,
      "outputs": [
        {
          "output_type": "execute_result",
          "data": {
            "text/plain": [
              "(50076.032608695656, 5160.248340243997, 6.054347826086956, 2.066818601240753)"
            ]
          },
          "metadata": {},
          "execution_count": 15
        }
      ]
    },
    {
      "cell_type": "code",
      "source": [
        "import numpy as np\n",
        "# Z-score for 90% service level\n",
        "z_score = 1.28\n",
        "# z_score = norm.ppf(0.90)\n",
        "\n",
        "# Calculate Safety Stock using the provided formula\n",
        "safety_stock_new = z_score * np.sqrt((daily_demand_std_new ** 2 * lead_time_mean_new) + (daily_demand_mean_new ** 2 * lead_time_std_new ** 2))\n",
        "\n",
        "# Calculate Reorder Point (ROP)\n",
        "reorder_point_new = (daily_demand_mean_new * lead_time_mean_new) + safety_stock_new\n",
        "\n",
        "safety_stock_new, reorder_point_new\n"
      ],
      "metadata": {
        "colab": {
          "base_uri": "https://localhost:8080/"
        },
        "id": "3xz5a3cIhOqq",
        "outputId": "c9dbbbc5-3d14-454a-c836-3b602280e859"
      },
      "execution_count": 24,
      "outputs": [
        {
          "output_type": "execute_result",
          "data": {
            "text/plain": [
              "(133632.51256777626, 436810.2317312923)"
            ]
          },
          "metadata": {},
          "execution_count": 24
        }
      ]
    },
    {
      "cell_type": "code",
      "source": [
        "z_score"
      ],
      "metadata": {
        "colab": {
          "base_uri": "https://localhost:8080/"
        },
        "id": "cfAUJ0MAnmAD",
        "outputId": "fc0ff93b-e12e-4402-ac7d-aa8cbf58b161"
      },
      "execution_count": 23,
      "outputs": [
        {
          "output_type": "execute_result",
          "data": {
            "text/plain": [
              "1.2815515655446004"
            ]
          },
          "metadata": {},
          "execution_count": 23
        }
      ]
    },
    {
      "cell_type": "code",
      "source": [],
      "metadata": {
        "id": "VNzzqCV5noqs"
      },
      "execution_count": null,
      "outputs": []
    }
  ]
}